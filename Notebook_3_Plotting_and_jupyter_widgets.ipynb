{
  "nbformat": 4,
  "nbformat_minor": 0,
  "metadata": {
    "colab": {
      "name": "Notebook 3_Plotting and jupyter-widgets.ipynb",
      "provenance": [],
      "collapsed_sections": [],
      "authorship_tag": "ABX9TyMQ3L/RSQYwnJXI/wXarz4D",
      "include_colab_link": true
    },
    "kernelspec": {
      "name": "python3",
      "display_name": "Python 3"
    },
    "language_info": {
      "name": "python"
    },
    "widgets": {
      "application/vnd.jupyter.widget-state+json": {
        "6bbe1e0c6f464ed4bd4f8cb0440154f0": {
          "model_module": "@jupyter-widgets/controls",
          "model_name": "VBoxModel",
          "model_module_version": "1.5.0",
          "state": {
            "_view_name": "VBoxView",
            "_dom_classes": [
              "widget-interact"
            ],
            "_model_name": "VBoxModel",
            "_view_module": "@jupyter-widgets/controls",
            "_model_module_version": "1.5.0",
            "_view_count": null,
            "_view_module_version": "1.5.0",
            "box_style": "",
            "layout": "IPY_MODEL_ef6307ea2cf4482db15d32d95174e48d",
            "_model_module": "@jupyter-widgets/controls",
            "children": [
              "IPY_MODEL_80a707bfd2f04f14a44662911efa5941",
              "IPY_MODEL_7f0d3916aa37469a9bb4077dccb78a87"
            ]
          }
        },
        "ef6307ea2cf4482db15d32d95174e48d": {
          "model_module": "@jupyter-widgets/base",
          "model_name": "LayoutModel",
          "model_module_version": "1.2.0",
          "state": {
            "_view_name": "LayoutView",
            "grid_template_rows": null,
            "right": null,
            "justify_content": null,
            "_view_module": "@jupyter-widgets/base",
            "overflow": null,
            "_model_module_version": "1.2.0",
            "_view_count": null,
            "flex_flow": null,
            "width": null,
            "min_width": null,
            "border": null,
            "align_items": null,
            "bottom": null,
            "_model_module": "@jupyter-widgets/base",
            "top": null,
            "grid_column": null,
            "overflow_y": null,
            "overflow_x": null,
            "grid_auto_flow": null,
            "grid_area": null,
            "grid_template_columns": null,
            "flex": null,
            "_model_name": "LayoutModel",
            "justify_items": null,
            "grid_row": null,
            "max_height": null,
            "align_content": null,
            "visibility": null,
            "align_self": null,
            "height": null,
            "min_height": null,
            "padding": null,
            "grid_auto_rows": null,
            "grid_gap": null,
            "max_width": null,
            "order": null,
            "_view_module_version": "1.2.0",
            "grid_template_areas": null,
            "object_position": null,
            "object_fit": null,
            "grid_auto_columns": null,
            "margin": null,
            "display": null,
            "left": null
          }
        },
        "80a707bfd2f04f14a44662911efa5941": {
          "model_module": "@jupyter-widgets/controls",
          "model_name": "DropdownModel",
          "model_module_version": "1.5.0",
          "state": {
            "_options_labels": [
              "0",
              "45",
              "90",
              "135",
              "180"
            ],
            "_view_name": "DropdownView",
            "style": "IPY_MODEL_6fa99c1d64a0482ea5805df1537f2470",
            "_dom_classes": [],
            "description": "degree",
            "_model_name": "DropdownModel",
            "index": 0,
            "_view_module": "@jupyter-widgets/controls",
            "_model_module_version": "1.5.0",
            "_view_count": null,
            "disabled": false,
            "_view_module_version": "1.5.0",
            "description_tooltip": null,
            "_model_module": "@jupyter-widgets/controls",
            "layout": "IPY_MODEL_fb6de5f95f2f424abda9566361c91141"
          }
        },
        "7f0d3916aa37469a9bb4077dccb78a87": {
          "model_module": "@jupyter-widgets/output",
          "model_name": "OutputModel",
          "model_module_version": "1.0.0",
          "state": {
            "_view_name": "OutputView",
            "msg_id": "",
            "_dom_classes": [],
            "_model_name": "OutputModel",
            "outputs": [
              {
                "output_type": "display_data",
                "data": {
                  "text/plain": "0.0"
                },
                "metadata": {}
              }
            ],
            "_view_module": "@jupyter-widgets/output",
            "_model_module_version": "1.0.0",
            "_view_count": null,
            "_view_module_version": "1.0.0",
            "layout": "IPY_MODEL_a190fef0a3d84410939324131d3d2376",
            "_model_module": "@jupyter-widgets/output"
          }
        },
        "6fa99c1d64a0482ea5805df1537f2470": {
          "model_module": "@jupyter-widgets/controls",
          "model_name": "DescriptionStyleModel",
          "model_module_version": "1.5.0",
          "state": {
            "_view_name": "StyleView",
            "_model_name": "DescriptionStyleModel",
            "description_width": "",
            "_view_module": "@jupyter-widgets/base",
            "_model_module_version": "1.5.0",
            "_view_count": null,
            "_view_module_version": "1.2.0",
            "_model_module": "@jupyter-widgets/controls"
          }
        },
        "fb6de5f95f2f424abda9566361c91141": {
          "model_module": "@jupyter-widgets/base",
          "model_name": "LayoutModel",
          "model_module_version": "1.2.0",
          "state": {
            "_view_name": "LayoutView",
            "grid_template_rows": null,
            "right": null,
            "justify_content": null,
            "_view_module": "@jupyter-widgets/base",
            "overflow": null,
            "_model_module_version": "1.2.0",
            "_view_count": null,
            "flex_flow": null,
            "width": null,
            "min_width": null,
            "border": null,
            "align_items": null,
            "bottom": null,
            "_model_module": "@jupyter-widgets/base",
            "top": null,
            "grid_column": null,
            "overflow_y": null,
            "overflow_x": null,
            "grid_auto_flow": null,
            "grid_area": null,
            "grid_template_columns": null,
            "flex": null,
            "_model_name": "LayoutModel",
            "justify_items": null,
            "grid_row": null,
            "max_height": null,
            "align_content": null,
            "visibility": null,
            "align_self": null,
            "height": null,
            "min_height": null,
            "padding": null,
            "grid_auto_rows": null,
            "grid_gap": null,
            "max_width": null,
            "order": null,
            "_view_module_version": "1.2.0",
            "grid_template_areas": null,
            "object_position": null,
            "object_fit": null,
            "grid_auto_columns": null,
            "margin": null,
            "display": null,
            "left": null
          }
        },
        "a190fef0a3d84410939324131d3d2376": {
          "model_module": "@jupyter-widgets/base",
          "model_name": "LayoutModel",
          "model_module_version": "1.2.0",
          "state": {
            "_view_name": "LayoutView",
            "grid_template_rows": null,
            "right": null,
            "justify_content": null,
            "_view_module": "@jupyter-widgets/base",
            "overflow": null,
            "_model_module_version": "1.2.0",
            "_view_count": null,
            "flex_flow": null,
            "width": null,
            "min_width": null,
            "border": null,
            "align_items": null,
            "bottom": null,
            "_model_module": "@jupyter-widgets/base",
            "top": null,
            "grid_column": null,
            "overflow_y": null,
            "overflow_x": null,
            "grid_auto_flow": null,
            "grid_area": null,
            "grid_template_columns": null,
            "flex": null,
            "_model_name": "LayoutModel",
            "justify_items": null,
            "grid_row": null,
            "max_height": null,
            "align_content": null,
            "visibility": null,
            "align_self": null,
            "height": null,
            "min_height": null,
            "padding": null,
            "grid_auto_rows": null,
            "grid_gap": null,
            "max_width": null,
            "order": null,
            "_view_module_version": "1.2.0",
            "grid_template_areas": null,
            "object_position": null,
            "object_fit": null,
            "grid_auto_columns": null,
            "margin": null,
            "display": null,
            "left": null
          }
        },
        "959615a354f34d29ab57bc14cbe5b67d": {
          "model_module": "@jupyter-widgets/controls",
          "model_name": "VBoxModel",
          "model_module_version": "1.5.0",
          "state": {
            "_view_name": "VBoxView",
            "_dom_classes": [
              "widget-interact"
            ],
            "_model_name": "VBoxModel",
            "_view_module": "@jupyter-widgets/controls",
            "_model_module_version": "1.5.0",
            "_view_count": null,
            "_view_module_version": "1.5.0",
            "box_style": "",
            "layout": "IPY_MODEL_3f6125121eb2445e9a3b0355df6bef00",
            "_model_module": "@jupyter-widgets/controls",
            "children": [
              "IPY_MODEL_a89ba009504240f68f051f34cf8da281",
              "IPY_MODEL_dd0b8892a99a4633ac1ac365c47c805d",
              "IPY_MODEL_1e7c933bc5ec4e1b8e8d5dfcb49545f1"
            ]
          }
        },
        "3f6125121eb2445e9a3b0355df6bef00": {
          "model_module": "@jupyter-widgets/base",
          "model_name": "LayoutModel",
          "model_module_version": "1.2.0",
          "state": {
            "_view_name": "LayoutView",
            "grid_template_rows": null,
            "right": null,
            "justify_content": null,
            "_view_module": "@jupyter-widgets/base",
            "overflow": null,
            "_model_module_version": "1.2.0",
            "_view_count": null,
            "flex_flow": null,
            "width": null,
            "min_width": null,
            "border": null,
            "align_items": null,
            "bottom": null,
            "_model_module": "@jupyter-widgets/base",
            "top": null,
            "grid_column": null,
            "overflow_y": null,
            "overflow_x": null,
            "grid_auto_flow": null,
            "grid_area": null,
            "grid_template_columns": null,
            "flex": null,
            "_model_name": "LayoutModel",
            "justify_items": null,
            "grid_row": null,
            "max_height": null,
            "align_content": null,
            "visibility": null,
            "align_self": null,
            "height": null,
            "min_height": null,
            "padding": null,
            "grid_auto_rows": null,
            "grid_gap": null,
            "max_width": null,
            "order": null,
            "_view_module_version": "1.2.0",
            "grid_template_areas": null,
            "object_position": null,
            "object_fit": null,
            "grid_auto_columns": null,
            "margin": null,
            "display": null,
            "left": null
          }
        },
        "a89ba009504240f68f051f34cf8da281": {
          "model_module": "@jupyter-widgets/controls",
          "model_name": "FloatSliderModel",
          "model_module_version": "1.5.0",
          "state": {
            "_view_name": "FloatSliderView",
            "style": "IPY_MODEL_c83bae98204d4b28a118a366caf14db4",
            "_dom_classes": [],
            "description": "slope",
            "step": 0.05,
            "_model_name": "FloatSliderModel",
            "orientation": "horizontal",
            "max": 5,
            "_view_module": "@jupyter-widgets/controls",
            "_model_module_version": "1.5.0",
            "value": 2,
            "_view_count": null,
            "disabled": false,
            "_view_module_version": "1.5.0",
            "min": 0,
            "continuous_update": true,
            "readout_format": ".2f",
            "description_tooltip": null,
            "readout": true,
            "_model_module": "@jupyter-widgets/controls",
            "layout": "IPY_MODEL_919539644e5944848dfe0092abc588a4"
          }
        },
        "dd0b8892a99a4633ac1ac365c47c805d": {
          "model_module": "@jupyter-widgets/controls",
          "model_name": "IntSliderModel",
          "model_module_version": "1.5.0",
          "state": {
            "_view_name": "IntSliderView",
            "style": "IPY_MODEL_a40414c254964e50b00d3c797e9f4da6",
            "_dom_classes": [],
            "description": "const",
            "step": 1,
            "_model_name": "IntSliderModel",
            "orientation": "horizontal",
            "max": 10,
            "_view_module": "@jupyter-widgets/controls",
            "_model_module_version": "1.5.0",
            "value": 2,
            "_view_count": null,
            "disabled": false,
            "_view_module_version": "1.5.0",
            "min": -5,
            "continuous_update": true,
            "readout_format": "d",
            "description_tooltip": null,
            "readout": true,
            "_model_module": "@jupyter-widgets/controls",
            "layout": "IPY_MODEL_6f530b26409a47d8882de036722973cb"
          }
        },
        "1e7c933bc5ec4e1b8e8d5dfcb49545f1": {
          "model_module": "@jupyter-widgets/output",
          "model_name": "OutputModel",
          "model_module_version": "1.0.0",
          "state": {
            "_view_name": "OutputView",
            "msg_id": "",
            "_dom_classes": [],
            "_model_name": "OutputModel",
            "outputs": [
              {
                "output_type": "display_data",
                "data": {
                  "image/png": "iVBORw0KGgoAAAANSUhEUgAAAXIAAAD4CAYAAADxeG0DAAAABHNCSVQICAgIfAhkiAAAAAlwSFlzAAALEgAACxIB0t1+/AAAADh0RVh0U29mdHdhcmUAbWF0cGxvdGxpYiB2ZXJzaW9uMy4yLjIsIGh0dHA6Ly9tYXRwbG90bGliLm9yZy+WH4yJAAAgAElEQVR4nO3de5xVZb3H8c8PGAQUgRQhGJEJDSRkAEdCMRLwgqKJ9wupqEl2IEzLpDpeOHnBI3ryeKkwPWoRlZqiQSQGlldskMuogHl3QIEshJhBhuE5f6wBhj17ZvaevdZel/19v17zYu+1917rtxF/65nn+T3PY845REQkvlqFHYCIiORGiVxEJOaUyEVEYk6JXEQk5pTIRURirk0YF91///1d7969w7i0SDD+/W94803YWQVWXAzduoUbkyTOkiVL/uGc65p6PJRE3rt3b8rLy8O4tEhwZs2Cr38dpk2Da68Fs7AjkoQxs/fTHQ8lkYsk0vjxMHAgHHZY2JFIgVEfuUhLPPUUVFU1PK4kLiFQIhfJhnNw443wta/B+edDbW3YEYlEp2ulpqaGyspKtm7dGnYoidWuXTuKi4spKioKO5T4WrTI6/8GmDMHbrsNpk4NNyYpeJFJ5JWVlXTs2JHevXtjGiTynXOOTz75hMrKSkpKSsIOJ75GjYLvfQ9mzIDRo+Fb3wo7IpHoJPKtW7cqiQfIzNhvv/3YsGFD2KHE3623Qp8+cMkl0LZt2NGIRKuPXEk8WPr7bYHKyt214Tu1agWXX64kLpERqUQuEil//atXhXL99WFHItIkJXKRdBYvhuOOg40b4cc/hgceCDsikUZlnMjN7AEzW29mr9U7dpuZrTKzFWb2uJl1DibM/KqoqKB79+5UVFSEHYqEZcgQGDnSe9y9OwwaFG48Ik3IpkX+IDAm5dgCYIBzbiDwJvADn+IK1c0338yLL77IzTffHHYoEpaiInjkETj3XHjpJS+xi0RUxlUrzrm/mlnvlGNP13v6MnCmP2GFa/bs2Xv8KQVgxw5vELO+jh1B/wYkBvzsI78E+KOP55N6nn32WSZMmBB2GMm0bh0cdRQ89ljYkYi0iC+J3Mx+BGwHZjXxnolmVm5m5VGtZX7ttdc46qijdj1/9dVXGT16dIvOddZZZzF58mSOPvpoDjroIJ5//nkuuOACvvjFL3LppZfuet/IkSNZsGABAP/5n//Jt7/97RZdb+3atZxxxhkMHjyYfv368corr7ToPAXn7bfhyCO9wc3x4+GFF8KOSCRrOU8IMrMJwMnAaOdSC253c87NBGYClJWVNfq+MPXv35933nmH2tpaWrduzVVXXcUdd9yxx3u+8pWvsHnz5gafnTFjBscee+yu5xUVFRx55JHcfffd3HzzzVx66aU8++yzdO3aleLiYj777DP22msvpk2bxnXXXcf69etZunQpTz75ZNZxb9++nRNPPJGbbrqJk08+maqqKmq1BkhmOnf2+sMBampg1SoYPjzcmESy5ZzL+AfoDbxW7/kY4A2gazbnOfzww12qN954Y88D11/vnDcVw3uc6qqrdr8+Y0bD1y+7bPfrP/95w9cbMWrUKLd8+XL36KOPugsvvDDjz9VXXV3tunXr5mpra51zzt18883u1ltv3fV6jx493I4dO3Y9HzFihBsyZIjbtGlTg3MNHTrUlZaWuj59+rguXbq40tJSV1pa6ubPn7/rPY888og755xzMoqtwd+zOPf2286VlDg3Z07YkYg0CSh3aXJqxi1yM5sNHAPsb2aVwPV4VSp7AQvqZg2+7Jy73L/bTP4NGzaMF154gXvvvZf58+c3eD2TFvnrr7/OkCFDaFU3eLZ8+XK+VbcmR2VlJT169Ng1y7KiooKPPvqI/fbbj44dOzY47+LFiwGvj/zBBx/kwQcfbPCeZcuWMWzYsJZ9YYEvfMFriWumpsRUNlUr56U5fL+PsUTCsGHDmDBhApMmTaJnz54NXn/uueeaPUdFRQWlpaW7nq9YsYKBAwcCXlLf+fijjz5i/PjxzJkzhylTpjB//nzGjEmt8Gxe9+7dWb58+a7nGzZsoGvXBrtBSW0t/OhHXklhal24krjEWHRndt5ww86OEe9xqttv3/36d7/b8PWZM3e/PnFixpft168fe+21F9dcc02LQ6+oqGBQXaLYunUr1dXVdOnSBdid1Kuqqjj99NO5/fbbOfTQQ7n22muZNm1ai643YcIE1q1bx5e+9CUGDRrESy+91OLYE6u6Gs45x1vwauxY+PDDsCMS8Y25xscnA1NWVuZS9+xcuXIlhx56aN5jSTV58mSOOOIILrroorBDCURU/p7zbvVqGDoUNm3ynn//+15SF4kRM1vinCtLPR7dFnmevf322/Tr14/q6urEJvGC1rcvPP64V6Hyne/ALbeEHZGIbyKzHnnY+vTpw6pVq8IOQ4I0ahSsWAH9+oUdiYivlMglmebPh8MPh9RBXyVxCckTS9dw259Ws3ZjNT06t+fqE/oybnDDgoqWUNeKJM8993gDmqeckn6ne5E8e2LpGn7w+wrWbKzGAWs2VvOD31fwxNI1vpxfiVyS5Y03YMoUbxGsxYu9QU2RkN32p9VU1+w527q6ppbb/rTal/MrkUuy9O8Pd97pPR46FK67Ltx4RIC1G6uzOp4t9ZFL8kye7C1Be+aZsPfeYUcjQo/O7VmTJmn36Nzel/OrRS7xVlkJ27Y1PH7RRUriEhlXn9CX9kWt9zjWvqg1V5/Q15fzK5FLfC1ZAkccAZdd1nCne5EIGTe4J7ecfhg9O7fHgJ6d23PL6Yf5VrWirhWJp7//Hb76VdiyBR5+2Fv4SrvdS4SNG9zTt8SdSi1yiaeDD/YWvwJvTfGdGyWLFCC1yDP0xBNPMHfuXDZt2sSll17K8ccfH3ZIhc0MfvpT78+rroJCXD9GpI5a5Cl+/vOf0717d0pLS+nTpw8PP/wwAOPGjeO+++7jZz/7Gb/97W99v27v3r057LDDGDRoEGVlDdbE2eWSSy7hgAMOYMCAAS36fGxt397wWFER3HefkrgUPCXyFBUVFdxwww0sX76c2bNnc9VVV+3x+o033sikSZMCufaiRYtYtmwZqStD1jdhwoS0G15k+vlY+vRTOOEE+MlPwo5EJJLUtZJixYoVnHHGGQCUlJTQtm7DAeccU6dO5cQTT2TIkCGhxTdixAjee++90K6fdx9/DMcdB6+9BosWwYEHQt1/H5GWCnLdkzAokaeoqKigb9++OOe4++67uemmmwC46667eOaZZ/j000956623uPzyhjvaZboxczpmxvHHH4+Z8c1vfpOJWWyG4cfnI6tTJ9h3X++xc96u9yI52Lnuyc4p8zvXPQFim8yz2bPzAeBkYL1zbkDdsc8Bv8XblPk94Gzn3L/8DzM/PvzwQzZv3sxJJ53EmjVrGDhwIDfU7U40ZcoUpkyZ0uTnM9kGrjHPP/88PXv2ZP369Rx33HH069ePESNG5O3zkdW+PcyZA8ccA9dcAxdcEHZEErJcW9NNrXvS2Hmi3oLPpo/8QSB1Q8mpwJ+dc4cAf657HlsVFRWMGDGCZcuW8eabb7Jq1aqstk37yle+wqBBgxr8PPPMMw3ee8899+x6fe3atbv2Bz3ggAM47bTTeOWVV7KKPdfPR9r++8PSpUri4ssqgtmuexL0yoV+yDiRO+f+Cvwz5fCpwEN1jx8CxvkUVyhWrFjB4MGDAejSpQvnn38+c+fOzfjzzz33HMuWLWvwk65bZdKkSbte79Sp064umS1btvD00083qEppypYtW3L6fGQ4Bz/+MTz9dMPXioryH49Ejh+rCDa2vkljx4NeudAPuVatdHPOfVT3+GOgW2NvNLOJZlZuZuUbNmzI8bLBqKio2JXIAU455RTmzZsX+HXXrVvH0UcfTWlpKUOHDmXs2LGMGbP7l5+TTjqJtWvXAnDeeedx5JFHsnr1aoqLi7n//vub/Xws1NTAN77hrVZ45pmwfHnYEUkE+bGKYLbrnmRyzSeWrmH49IWUTJ3L8OkL895a922w0znnzKzRBS+cczOBmeBtvuzXdf00a9asPZ6PGDGCpUuXBn7dL3zhCyxvInHVv5nMnj077Xua+nws/POfsGCB93jzZrjjDnjooaY/IwXHj1UEd/ZtZ9rn3dw1ozB4mmuLfJ2ZfR6g7s/1uYckBalbN5g3z6tQmTABfvGLsCOSCPJrFcFxg3vywtRRvDt9LC9MHdVkwm3umlHoesm1Rf4kcBEwve7POTlHJIVrwAB49VVvASyzsKORCMq2NZ2Pawa9aUQmsik/nA0cA+xvZpXA9XgJ/HdmdinwPnB2EEFKAj37LPTsCYccsufxPn1CCUfiI8hVBDO95s4+8bUbq2llRm2aZZT92jQiExkncufceY28NNqnWHDOYWqJBcZFZc3uWbPg4ouhVy946aWGO92LRFhqn3i6JO7nphGZiMxaK+3ateOTTz6JTrJJGOccn3zyCe3atQs3kI8/hokTvSqVt9/2HosEzM+qknR94gCtzQLZNCITkZmiX1xcTGVlJVEtTUyCdu3aUVxcHG4Q3bt7LfLTT/dWLdy5UbJIQPyuKmms73uHc7w7fWzLA81BZBJ5UVERJSUlYYch+TBuHDz2mLcZROfOYUcjCdeSKflNCXoj5ZaITCKXhFq3Dtq18xa/qu+008KJp8CEsUZI1NYl8buq5OoT+u7Rwof894mnikwfuSTQqlUwbJg3U7OmJuxoCk4Ya4REcV2SbKfkNyfojZRbQi1yCcY//gHDh3szNt97D771LU3yyTO/uxSCumbQLfggWtBhlEA2RS1yCcb++8MVV3iPO3RQV0oIwpioEsWVBaPYgvabWuQSnGuvhS1b4KyzIIn7iEZcGINy2V4zX781RK0F7Te1yMUftbXeT31mcOutSuIh8WtdkiCvGYXp7UmgRC65q6ryBjS/972wI5F6wuhSyPaafg9EFip1rUhuPv0UxoyBl1/2nh90EHznO+HGJLtEYV2SpkSxlC+OlMglNx07eotf7VS3AYYkQ9AVJWGsZphESuSSm1at4Je/hPXr4eyzYfLksCMSnwS1YUK6m8MLU0f5EnOhUiKX3LVvD4sWQevWzb9XYiOIipIgbg5Rm0kaBiVyyc5dd3ndKRMm7HlcSTxxgqgo8fvmEIVt1hqLK583FyVyycyOHXD11d5emm3aeP3ixx0XdlQSoCDq0P2+OQRVh55LIg7j5qLyQ8lMVRU884z3ePt2mDEDtHZ8ogVRh+53uWFjN4A1G6tbvP54rrNNw9jDU4lcMrPPPt7myMXF3jK0jz+ufTUTLog6dL9vDo3dAAxCS8RhTHLypWvFzK4EvgE4oAK42Dm31Y9zS4T07Akvvgg9eqhPPA+iMIjndx263+WG6erQDS8R1ZdNd0uuiTiMpRFyTuRm1hOYAvR3zlWb2e+Ac4EHcz23hKi83OtCGTZsz+MHHhhOPAUmqoN4fvDz5pDuxpAuiULTibj+TTPXzZTDmOTk12BnG6C9mdUAHQDNComzP/wBzjnHW7XwpZfg4IPDjqjghLEEbVyl3hiGT1+YVYvY782Uw5jklHMid86tMbMZwAdANfC0c+7p1PeZ2URgIkCvXr1yvawEZcsWuOwyb3CzqgrGj/em36s/PK+0mFTLZdsibmoz5R3OtSgR53tpBD+6VroApwIlwEbgETP7unPuV/Xf55ybCcwEKCsrU7lDVO29tzeQOXKkt1HyQw8piYcgivtCxkW2LeIobqacLT+6Vo4F3nXObQAws98DRwG/avJTEl3DhsFTT8Fhh0G3bmFHU5C0mFRusmkRJ+Gm6Uf54QfAMDPrYGYGjAZW+nBeyYd//Sv9QlfHHqskHqJC2NUmKsJYt91vfvSRLzazR4FXge3AUuq6UCTi3n8fTjrJm6n53HOw775hRyT1JH1Xm6hIwgqM5kKYnVdWVubKy8vzfl2pZ+tW6NsXPvjAe3788TB/vvrDpUlRqG0vZGa2xDnXYMstrbVSqNq1g2nT4OKLoagILrpISTxk+UiScVhDRDeL7CmRF7IJE2DDBjjiCDjmmLCjKWj5SJK5XiMfte1JnggVJK21Uiicg23bGh6/+mol8QjIx0JLcVhDpLEYv/u75S1aAKtQKJEXgm3bvC6U889vuNO9REI+kqQfa4hkc7wlGoul1rkWLYBVKJTIk27bNhg71pvY89hj2uk+ovKRJHO9Rj7K9DKJJeglYeNIiTzp2raFAQN2P9+0ydskQkL3xNI1u9bM3vLZdopa7znY7HeSzDUR56O2PV2M6Wipgj1psLMQzJgBH34IAwfCtdeqOiUCUgf1NlbXUNTK6NKhiI1VNZHdsT7o2vbUGHNdibBQqI68UOzY4e14L5HQ2Ap9PTu3D3VH+aiV/qXe8MD7LaJQZ7mqjrxQPPwwVFbCD3+453El8UiJyuqG9RN3p/ZFbNm2nZpar3EXhdK/JMy6zAcl8qRwDm66yes6AW83n4suCjcmaVRLFmpK11qGlie5dN07qaKwBrqWKmiemmlJUVsLf/nL7uf/+7/eDj8SSdkOPKbbEPjqR5Zz9aPLfd2bMh0NLEafEnlStGnjlRcOHAijR8PChd4xiaRsK0DSJd2aHW5XN8hOfkzwSaWBxejT/+lJsu++sGABdO7slR1KpGXTZZBNqzjXTYLri9tyroVKLfK4WrkS5s1rePyAA5TEEyibVnEuE3x2lkBqDfR4UYs8jv7yFxg3zluKdtGihjvdS+Kk2zGoqJWBsUf3SlEro2rbdkqmzm128FMVIcmhOvK4qa2F0lJ4/XXveUkJrF7tLUUridZc1Upq+SAUds11EjVWR65EHkdvvQVHHukNZs6dC0OGhB2RZCDoyTZRnWQk/tGEoCQ5+GCvf/yAA+Cgg8KORjKQj3W2ozLJSPLPl8FOM+tsZo+a2SozW2lmR/pxXgG2bPFa4KmOOEJJPEbysd54PlZQlGjyq2rlTmC+c64fUAqs9Om8hW3dOhg50vtZo/WX4ywfreUwdoOvv4KjNn0IT85dK2bWCRgBTABwzm0D0mxFI1nZsQPGjIFly7znY8fC4sWw117hxiUt0pIp+dnKdxWKtmWLDj/6yEuADcD/mVkpsAS4wjm3pf6bzGwiMBGgV69ePlw24Vq1gv/+bzjpJC+pX3aZkniMpSsfDKK1nM91SfKxh6dkxo9E3gYYAnzbObfYzO4EpgLX1n+Tc24mMBO8qhUfrpt8xx0HDzwAnTrB174WdjShCrriI+jzJ7FmW4Or0eFHIq8EKp1zi+ueP4qXyCVbW7dCu3Z7HrvggnBiiZCgf4XPVxdB0lbxy0d3kWQm58FO59zHwIdmtvN3xNHAG7met6Ds2AFXXuktdlWt1kyqoCs+8lFRkkRhDK5Ken7VkX8bmGVmbYF3gIt9Om/yOQfnnguPPOI9v/BC+O1vtRFEPUH8Cl+/K6Wxfj51ETQtid1FceVLInfOLQMazDaSDJh5szR3JnLnoKZGA5v1+P0rfLrtwxq7rjQtad1FcaWZnVFw5ZXw/vteK3zGDLXGU/hd8ZHJhgrqIpA4USKPiv/5H+1u3wi/f4VvqsvEQF0EPovahs5JpESeb08+Cc88A3feuWfiVhJvkp+/wjfWVaPFpfynSUP5od/h8+mee+C00+Cuu+DGG8OOpmCp2iJ/VBGUH0rk+eIc/O1vXqkhwEMPwb//HW5MBSrb/TKl5TRpKD/UtZIvZjBzprf41aZN8NRTsM8+YUdVsFRtkR+aNJQfSuT51Latt9N9mzbQoUPY0YSmUAa/CuV7NiVfa8wUOiXyoLz3HrzwAowfv+fxffcNJZyoSPLgV/3EnbrtWpK+ZzY0aSg/lMiD8Oqr3rKz69Z53Sennhp2RJGR1BXzUm9QG6trGrwnCd+zJdSNFTwl8iBccw18/LH3eMIEr3XeqVOYEfkqly6DpA5+ZTLJCOL/PSWalMiD8Otfe9PuP/kE5sxJXBLPpWskLoNfmdysMlmvJVXUvqckg8oPg9C1K/zxj/DiizBiRNjR+CrXuuA41HDvvFmtqUvQO29W9bcxS31PJqL2PSU51CLP1bZtsHo1HHbYnscPOSSceAKWa9dIvga/UlvUI/t1ZdGqDRldM5N+/Ey6UopaGfu0a8PGqhoN8kmglMhz8emncPrpUF7uVagMGBB2RIHzo2sk6MGvdN0/v3r5g12vN9cdlMnNSuu1SJQokefinHNg4ULv8YknwvLl8LnPhRtTAFLL6opa266yOohel0EmreWmKkgyuVlpvRaJEvWR5+LWW6FjR+/x5ZdDly7hxhOA1L7gjdU14KBLh6LITm/PtJunsfdl0o8fh75+KRxqkeeitBQefdSrF4/I3pp+zyZM17qt2eHo0LYNS687PtdwW6yp79lYazlVY91BmfTja6KLRIk558+G9mbWGigH1jjnTm7qvWVlZa68vNyX6+bVli2w995hR9GodDvftC9qnXWLOZOyOgPenT426/P5kfCa+56Z7ADUkr8XkbCZ2RLnXIPd2PzsWrkCWOnj+aLDOZg2DQ4/3KsNjyg/lgzNtKwu08HNTEr5stXc90y3uuHXh/XSaoeSWL50rZhZMTAWuAm4yo9zRsrkyXDvvd7jU0/1NoZo1y7cmNLwY9ak39ugBTElP5PvqWnhUkj8apH/BPg+sKOxN5jZRDMrN7PyDRs2+HTZPBk5cvcOPh06eJsjR1BjreRsSgObK6vLtjUbxJR8P76nSJLknMjN7GRgvXNuSVPvc87NdM6VOefKunbtmutl8+vMM+H22711U+bO3V2pEjF+VFI0lgx7dm7Pu9PH8sLUUVm1dINIumFVjDyxdA3Dpy+kZOpchk9fmFP3kIif/GiRDwe+ZmbvAb8BRpnZr3w4b7RceSU88AAUFYUdSaP82PnG7yQZRNINY4efIPr6RfziW9UKgJkdA3wv1lUrixZ5O/k8/HCkk3aQgqgyiXuZ3vDpCzUBSELXWNWK6sjr+/Wvve6TmhqvzPC++wpyd3u/BwqTMPCY1OV3JRl8ndnpnHu2udZ4pK1atXsgc9683WuKS8HTAKtEmabo1zdtGlx4IfTvDy+/DJ//fNgRxUIhDAJqSr5EmbpW6jPzulOqqqBz57CjyZtc+rCTvAdnfZqSL1FWuIl83TpvnZRJk/Y83rat91Mgck3Efkz4ictgaBL6+iWZCjORr1rlLTv73nve89RkHmH5WBQrm0Sc6yBgobToRYJUmIl8+vTdSfzKK+GUU6BXr1BDykQQSS/XRJzrRhON3UhuePL1rG5YcWnViwShMAc7770Xvvxlb7r944/HIomDP4tipcq1GiPXQcDGbhgbq2synnyjyTpS6AozkXfoAE89Bc89B2MzW4o1CoKoZc41Eec6yzLTG0ZTN6wgbnAicZL8rpXaWliyBIYO3fN4167eT4z4sV9mKj+qMXIZBLz6hL7Nrh2+U7Y3Mk3WkUKR7EReVQXjx3sLXc2fD6PiPZU6XdLzo5bZ72qMbPqr091IqrZt519VDVeYbKobyO8bnEicJDuRT5oETzzhPT7tNFi2DEpKwo0pB3GoZW7JgGzqjaSxHYAau2EFdYMTiYtkJ/Jp0+Dpp2HtWpg4EQ46KOyIchb1WmY/6sqzvWHF4QYnEqRkJ/JevbxulRdfhP/4j7CjKQh+9Vdne8OK+g1OJEjJSuSbNzfc9GHQIO9H8kL91SL5l5zyw7vugr594Z13wo6kSWEvMBX09bW4lEj+JaNFPm0a3HCD9/jEE72ulP32CzWkdDIZCAxyhmI+psOrv1ok/5KRyEePhltugc8+gy5dYEeje0CHqrmBwKATbRA72qej/mqR/EpG18rRR8Mvfwmnnw4LF0Z2ok9zA4FBz1DUxBmRZEpGIgc46yxvWdoOHcKOpFHNrWsSdKLVLjciyZRzIjezA81skZm9YWavm9kVfgTWqPJyrx988+Z0wQR66VwHCtMNBBa1Mqq2badk6lxaNRJ/U4k2m5g0ECmSTH70kW8Hvuuce9XMOgJLzGyBc+4NH869pz/8Ac45x5t6f/bZ8OSTedvp3o/+69SBwE7ti9hSbzp6rXMNPtNUos02Jg1EiiRTzoncOfcR8FHd481mthLoCfifyD/+2EviAK+8Am+/Df36+X6ZdPwaKKw/EDh8+kI2VjdcU6S1GTucazbRtiQmDUSKJI+vVStm1hsYDCxO89pEYCJAr5au//2Nb8D778OsWfDHP3p143mSSf91tqWDjZ1zh3O8O7355XU1eCki4ONgp5ntAzwGfMc5tyn1defcTOdcmXOurGsuVSX/9V/esrR5TOLQ/EBhSzY3yHXwUYOXIgI+JXIzK8JL4rOcc7/345xNXMyrFc+z5gYKW1I6mOvgowYvRQR86FoxMwPuB1Y65+7IPaRoam6gsCXdHLkOPmrwUkQAzKWplMjqBGZHA88BFcDOKZU/dM7Na+wzZWVlrry8PKfrRs3w6QvTLhaV6cBlULQpsUhymNkS51xZ6nE/qlaeB4It4I6BxrYs21lSGMS6Js3Jx9oqIhK+5MzsDFnqJsSt00zuyfeGwNqUWKQwJGPRrIioX6NdMnVu2vfkszRQ5YkihUEt8oBEoTQwCjGISPCUyAMShdLAKMQgIsFT10oOmqoIiUJpYBRiEJHg5Vx+2BJJKD9MrQgBr7V7y+mH+ZooVT4oIjsFVn6YL1FLaPnYbUflgyKSiVj0kbdkHZOg5aMiROWDIpKJWCTyKCa0fFSEqHxQRDIRi0QexYSWj4oQlQ+KSCZikcijmNBSZ3L27Nze94FOlQ+KSCZiMdiZbh2TKCS0oHfbUfmgiGQiFom8kBOatmYTkebEIpGDEpqISGNik8jzIbVWfWS/rixataHgfgsQkXhRIq+TbvLNr17+YNfrmowjIlEVi6qVfEhXq54q7Np1EZF0Ytsi93vKfqY16ZqMIyJR40uL3MzGmNlqM3vLzKb6cc6mBDFlP9OadE3GEZGoyTmRm1lr4B7gRKA/cJ6Z9c/1vE3xa8r+E0vXMHz6QkqmzmXLZ9spat301qNRqF0XEUnlR4t8KPCWc+4d59w24DfAqT6ct1F+TNlPbdVvrK4BB1F0k/gAAAYUSURBVF06FO2aqfn1Yb0CnbkpIuIHP/rIewIf1nteCXw59U1mNhGYCNCrV6+cLtijc3vWpEnarcwomTo3oz7zdK36mh2ODm3bsPS643OKT0Qkn/JWteKcm+mcK3POlXXt2jWnc6VbgwSg1rmM+8yjuBCXiEhL+NEiXwMcWO95cd2xwKRO2W9lRm3KTkfpNnmoX+mS7jOgwUwRiR8/EvnfgEPMrAQvgZ8LnO/DeZtUf8p+ydS5ad9Tv3WdOuEnXRLXYKaIxFHOXSvOue3AZOBPwErgd86513M9bzYyWea2sQk/rc00mCkisebLhCDn3Dxgnh/naolMlrltrO97h3O8O31s4DGKiAQlEVP0M9nkIYqbU4iI+CG2U/RTNbfMbVQ3pxARyVViEnlzCnlzChFJtoJJ5KDNKUQkmRLRRy4iUsiUyEVEYk6JXEQk5hLdR+735hMiIlGU2ESebg9O7bkpIkmU2K4VvzafEBGJusQmci1TKyKFIrGJXFPyRaRQJDaRp9t8QlPyRSSJEjvYqSn5IlIoEpvIQVPyRaQwJLZrRUSkUCiRi4jEXE6J3MxuM7NVZrbCzB43s85+BSYiIpnJtUW+ABjgnBsIvAn8IPeQREQkGzklcufc03WbLwO8DBTnHpKIiGTDzz7yS4A/+ng+ERHJQLPlh2b2DNA9zUs/cs7NqXvPj4DtwKwmzjMRmAjQq1evFgUrIiINNZvInXPHNvW6mU0ATgZGO+dcE+eZCcwEKCsra/R9IiKSnZwmBJnZGOD7wFedc1X+hCQiItnItY/8bqAjsMDMlpnZz3yISUREspBTi9w5d7BfgYiISMtoZqeISMwpkYuIxJwSuYhIzCmRi4jEnBK5iEjMKZGLiMScErmISMwpkYuIxJwSuYhIzCmRi4jEnBK5iEjMWRMrzwZ3UbMNwPst/Pj+wD98DCcO9J0Lg75zYcjlOx/knOuaejCURJ4LMyt3zpWFHUc+6TsXBn3nwhDEd1bXiohIzCmRi4jEXBwT+cywAwiBvnNh0HcuDL5/59j1kYuIyJ7i2CIXEZF6lMhFRGIuVonczMaY2Woze8vMpoYdT9DM7EAzW2Rmb5jZ62Z2Rdgx5YOZtTazpWb2h7BjyQcz62xmj5rZKjNbaWZHhh1T0Mzsyrp/06+Z2Wwzaxd2TH4zswfMbL2ZvVbv2OfMbIGZ/b3uzy5+XCs2idzMWgP3ACcC/YHzzKx/uFEFbjvwXedcf2AYMKkAvjPAFcDKsIPIozuB+c65fkApCf/uZtYTmAKUOecGAK2Bc8ONKhAPAmNSjk0F/uycOwT4c93znMUmkQNDgbecc+8457YBvwFODTmmQDnnPnLOvVr3eDPe/+A9w40qWGZWDIwFfhF2LPlgZp2AEcD9AM65bc65jeFGlRdtgPZm1gboAKwNOR7fOef+Cvwz5fCpwEN1jx8CxvlxrTgl8p7Ah/WeV5LwpFafmfUGBgOLw40kcD8Bvg/sCDuQPCkBNgD/V9ed9Asz2zvsoILknFsDzAA+AD4CPnXOPR1uVHnTzTn3Ud3jj4Fufpw0Tom8YJnZPsBjwHecc5vCjicoZnYysN45tyTsWPKoDTAE+KlzbjCwBZ9+3Y6qun7hU/FuYj2Avc3s6+FGlX/Oq/32pf47Tol8DXBgvefFdccSzcyK8JL4LOfc78OOJ2DDga+Z2Xt4XWejzOxX4YYUuEqg0jm38zetR/ESe5IdC7zrnNvgnKsBfg8cFXJM+bLOzD4PUPfnej9OGqdE/jfgEDMrMbO2eIMjT4YcU6DMzPD6Tlc65+4IO56gOed+4Jwrds71xvvvu9A5l+iWmnPuY+BDM+tbd2g08EaIIeXDB8AwM+tQ9298NAkf4K3nSeCiuscXAXP8OGkbP06SD8657WY2GfgT3ij3A86510MOK2jDgQuACjNbVnfsh865eSHGJP77NjCrroHyDnBxyPEEyjm32MweBV7Fq8xaSgKn6pvZbOAYYH8zqwSuB6YDvzOzS/GW8j7bl2tpir6ISLzFqWtFRETSUCIXEYk5JXIRkZhTIhcRiTklchGRmFMiFxGJOSVyEZGY+39O0VMnum55NQAAAABJRU5ErkJggg==\n",
                  "text/plain": "<Figure size 432x288 with 1 Axes>"
                },
                "metadata": {
                  "needs_background": "light"
                }
              }
            ],
            "_view_module": "@jupyter-widgets/output",
            "_model_module_version": "1.0.0",
            "_view_count": null,
            "_view_module_version": "1.0.0",
            "layout": "IPY_MODEL_b32b8b5e07fb4f2bbe9f2a59af5c896a",
            "_model_module": "@jupyter-widgets/output"
          }
        },
        "c83bae98204d4b28a118a366caf14db4": {
          "model_module": "@jupyter-widgets/controls",
          "model_name": "SliderStyleModel",
          "model_module_version": "1.5.0",
          "state": {
            "_view_name": "StyleView",
            "handle_color": null,
            "_model_name": "SliderStyleModel",
            "description_width": "",
            "_view_module": "@jupyter-widgets/base",
            "_model_module_version": "1.5.0",
            "_view_count": null,
            "_view_module_version": "1.2.0",
            "_model_module": "@jupyter-widgets/controls"
          }
        },
        "919539644e5944848dfe0092abc588a4": {
          "model_module": "@jupyter-widgets/base",
          "model_name": "LayoutModel",
          "model_module_version": "1.2.0",
          "state": {
            "_view_name": "LayoutView",
            "grid_template_rows": null,
            "right": null,
            "justify_content": null,
            "_view_module": "@jupyter-widgets/base",
            "overflow": null,
            "_model_module_version": "1.2.0",
            "_view_count": null,
            "flex_flow": null,
            "width": null,
            "min_width": null,
            "border": null,
            "align_items": null,
            "bottom": null,
            "_model_module": "@jupyter-widgets/base",
            "top": null,
            "grid_column": null,
            "overflow_y": null,
            "overflow_x": null,
            "grid_auto_flow": null,
            "grid_area": null,
            "grid_template_columns": null,
            "flex": null,
            "_model_name": "LayoutModel",
            "justify_items": null,
            "grid_row": null,
            "max_height": null,
            "align_content": null,
            "visibility": null,
            "align_self": null,
            "height": null,
            "min_height": null,
            "padding": null,
            "grid_auto_rows": null,
            "grid_gap": null,
            "max_width": null,
            "order": null,
            "_view_module_version": "1.2.0",
            "grid_template_areas": null,
            "object_position": null,
            "object_fit": null,
            "grid_auto_columns": null,
            "margin": null,
            "display": null,
            "left": null
          }
        },
        "a40414c254964e50b00d3c797e9f4da6": {
          "model_module": "@jupyter-widgets/controls",
          "model_name": "SliderStyleModel",
          "model_module_version": "1.5.0",
          "state": {
            "_view_name": "StyleView",
            "handle_color": null,
            "_model_name": "SliderStyleModel",
            "description_width": "",
            "_view_module": "@jupyter-widgets/base",
            "_model_module_version": "1.5.0",
            "_view_count": null,
            "_view_module_version": "1.2.0",
            "_model_module": "@jupyter-widgets/controls"
          }
        },
        "6f530b26409a47d8882de036722973cb": {
          "model_module": "@jupyter-widgets/base",
          "model_name": "LayoutModel",
          "model_module_version": "1.2.0",
          "state": {
            "_view_name": "LayoutView",
            "grid_template_rows": null,
            "right": null,
            "justify_content": null,
            "_view_module": "@jupyter-widgets/base",
            "overflow": null,
            "_model_module_version": "1.2.0",
            "_view_count": null,
            "flex_flow": null,
            "width": null,
            "min_width": null,
            "border": null,
            "align_items": null,
            "bottom": null,
            "_model_module": "@jupyter-widgets/base",
            "top": null,
            "grid_column": null,
            "overflow_y": null,
            "overflow_x": null,
            "grid_auto_flow": null,
            "grid_area": null,
            "grid_template_columns": null,
            "flex": null,
            "_model_name": "LayoutModel",
            "justify_items": null,
            "grid_row": null,
            "max_height": null,
            "align_content": null,
            "visibility": null,
            "align_self": null,
            "height": null,
            "min_height": null,
            "padding": null,
            "grid_auto_rows": null,
            "grid_gap": null,
            "max_width": null,
            "order": null,
            "_view_module_version": "1.2.0",
            "grid_template_areas": null,
            "object_position": null,
            "object_fit": null,
            "grid_auto_columns": null,
            "margin": null,
            "display": null,
            "left": null
          }
        },
        "b32b8b5e07fb4f2bbe9f2a59af5c896a": {
          "model_module": "@jupyter-widgets/base",
          "model_name": "LayoutModel",
          "model_module_version": "1.2.0",
          "state": {
            "_view_name": "LayoutView",
            "grid_template_rows": null,
            "right": null,
            "justify_content": null,
            "_view_module": "@jupyter-widgets/base",
            "overflow": null,
            "_model_module_version": "1.2.0",
            "_view_count": null,
            "flex_flow": null,
            "width": null,
            "min_width": null,
            "border": null,
            "align_items": null,
            "bottom": null,
            "_model_module": "@jupyter-widgets/base",
            "top": null,
            "grid_column": null,
            "overflow_y": null,
            "overflow_x": null,
            "grid_auto_flow": null,
            "grid_area": null,
            "grid_template_columns": null,
            "flex": null,
            "_model_name": "LayoutModel",
            "justify_items": null,
            "grid_row": null,
            "max_height": null,
            "align_content": null,
            "visibility": null,
            "align_self": null,
            "height": null,
            "min_height": null,
            "padding": null,
            "grid_auto_rows": null,
            "grid_gap": null,
            "max_width": null,
            "order": null,
            "_view_module_version": "1.2.0",
            "grid_template_areas": null,
            "object_position": null,
            "object_fit": null,
            "grid_auto_columns": null,
            "margin": null,
            "display": null,
            "left": null
          }
        },
        "1e4f69bd04184b6b9dfb05070ebe08b8": {
          "model_module": "@jupyter-widgets/controls",
          "model_name": "VBoxModel",
          "model_module_version": "1.5.0",
          "state": {
            "_view_name": "VBoxView",
            "_dom_classes": [
              "widget-interact"
            ],
            "_model_name": "VBoxModel",
            "_view_module": "@jupyter-widgets/controls",
            "_model_module_version": "1.5.0",
            "_view_count": null,
            "_view_module_version": "1.5.0",
            "box_style": "",
            "layout": "IPY_MODEL_42ab202443c341cc850a06e261555586",
            "_model_module": "@jupyter-widgets/controls",
            "children": [
              "IPY_MODEL_48073b76ff2d4b098e571b31e1a0c216",
              "IPY_MODEL_0685f04674854fedb96331f23d6b314a",
              "IPY_MODEL_8f70d41cb38948b6a8720bfdfad4a006",
              "IPY_MODEL_7080ab53a1734a068fc8e175b4147aea",
              "IPY_MODEL_5a98fa79697d4b16a78afa4e89c489b7"
            ]
          }
        },
        "42ab202443c341cc850a06e261555586": {
          "model_module": "@jupyter-widgets/base",
          "model_name": "LayoutModel",
          "model_module_version": "1.2.0",
          "state": {
            "_view_name": "LayoutView",
            "grid_template_rows": null,
            "right": null,
            "justify_content": null,
            "_view_module": "@jupyter-widgets/base",
            "overflow": null,
            "_model_module_version": "1.2.0",
            "_view_count": null,
            "flex_flow": null,
            "width": null,
            "min_width": null,
            "border": null,
            "align_items": null,
            "bottom": null,
            "_model_module": "@jupyter-widgets/base",
            "top": null,
            "grid_column": null,
            "overflow_y": null,
            "overflow_x": null,
            "grid_auto_flow": null,
            "grid_area": null,
            "grid_template_columns": null,
            "flex": null,
            "_model_name": "LayoutModel",
            "justify_items": null,
            "grid_row": null,
            "max_height": null,
            "align_content": null,
            "visibility": null,
            "align_self": null,
            "height": null,
            "min_height": null,
            "padding": null,
            "grid_auto_rows": null,
            "grid_gap": null,
            "max_width": null,
            "order": null,
            "_view_module_version": "1.2.0",
            "grid_template_areas": null,
            "object_position": null,
            "object_fit": null,
            "grid_auto_columns": null,
            "margin": null,
            "display": null,
            "left": null
          }
        },
        "48073b76ff2d4b098e571b31e1a0c216": {
          "model_module": "@jupyter-widgets/controls",
          "model_name": "IntSliderModel",
          "model_module_version": "1.5.0",
          "state": {
            "_view_name": "IntSliderView",
            "style": "IPY_MODEL_ef874ddd5dbc4f02b74f5ed99119cde0",
            "_dom_classes": [],
            "description": "demand_mean",
            "step": 1,
            "_model_name": "IntSliderModel",
            "orientation": "horizontal",
            "max": 100,
            "_view_module": "@jupyter-widgets/controls",
            "_model_module_version": "1.5.0",
            "value": 50,
            "_view_count": null,
            "disabled": false,
            "_view_module_version": "1.5.0",
            "min": 50,
            "continuous_update": true,
            "readout_format": "d",
            "description_tooltip": null,
            "readout": true,
            "_model_module": "@jupyter-widgets/controls",
            "layout": "IPY_MODEL_0bfea7b54f334c1b9dc9b14677428627"
          }
        },
        "0685f04674854fedb96331f23d6b314a": {
          "model_module": "@jupyter-widgets/controls",
          "model_name": "FloatSliderModel",
          "model_module_version": "1.5.0",
          "state": {
            "_view_name": "FloatSliderView",
            "style": "IPY_MODEL_95ef34e4ffdc42ed9c1e82c714ac88d4",
            "_dom_classes": [],
            "description": "demand_std",
            "step": 1,
            "_model_name": "FloatSliderModel",
            "orientation": "horizontal",
            "max": 10,
            "_view_module": "@jupyter-widgets/controls",
            "_model_module_version": "1.5.0",
            "value": 10,
            "_view_count": null,
            "disabled": false,
            "_view_module_version": "1.5.0",
            "min": 0.1,
            "continuous_update": true,
            "readout_format": ".2f",
            "description_tooltip": null,
            "readout": true,
            "_model_module": "@jupyter-widgets/controls",
            "layout": "IPY_MODEL_4c96de63314748188e28868d704e3e47"
          }
        },
        "8f70d41cb38948b6a8720bfdfad4a006": {
          "model_module": "@jupyter-widgets/controls",
          "model_name": "IntSliderModel",
          "model_module_version": "1.5.0",
          "state": {
            "_view_name": "IntSliderView",
            "style": "IPY_MODEL_927e6b4dfe7648248d5d8ad1818db378",
            "_dom_classes": [],
            "description": "capacity_mean",
            "step": 1,
            "_model_name": "IntSliderModel",
            "orientation": "horizontal",
            "max": 150,
            "_view_module": "@jupyter-widgets/controls",
            "_model_module_version": "1.5.0",
            "value": 95,
            "_view_count": null,
            "disabled": false,
            "_view_module_version": "1.5.0",
            "min": 95,
            "continuous_update": true,
            "readout_format": "d",
            "description_tooltip": null,
            "readout": true,
            "_model_module": "@jupyter-widgets/controls",
            "layout": "IPY_MODEL_f6d7a9eecfb44a6cb39e38ed11ab018a"
          }
        },
        "7080ab53a1734a068fc8e175b4147aea": {
          "model_module": "@jupyter-widgets/controls",
          "model_name": "FloatSliderModel",
          "model_module_version": "1.5.0",
          "state": {
            "_view_name": "FloatSliderView",
            "style": "IPY_MODEL_75bef258f6b043a1bd5f18f1184cd64d",
            "_dom_classes": [],
            "description": "capacity_std",
            "step": 1,
            "_model_name": "FloatSliderModel",
            "orientation": "horizontal",
            "max": 20,
            "_view_module": "@jupyter-widgets/controls",
            "_model_module_version": "1.5.0",
            "value": 10,
            "_view_count": null,
            "disabled": false,
            "_view_module_version": "1.5.0",
            "min": 0.1,
            "continuous_update": true,
            "readout_format": ".2f",
            "description_tooltip": null,
            "readout": true,
            "_model_module": "@jupyter-widgets/controls",
            "layout": "IPY_MODEL_5881c44ecf6045b0bfb9681e06276ebc"
          }
        },
        "5a98fa79697d4b16a78afa4e89c489b7": {
          "model_module": "@jupyter-widgets/output",
          "model_name": "OutputModel",
          "model_module_version": "1.0.0",
          "state": {
            "_view_name": "OutputView",
            "msg_id": "",
            "_dom_classes": [],
            "_model_name": "OutputModel",
            "outputs": [
              {
                "output_type": "display_data",
                "data": {
                  "image/png": "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\n",
                  "text/plain": "<Figure size 432x288 with 1 Axes>"
                },
                "metadata": {
                  "needs_background": "light"
                }
              }
            ],
            "_view_module": "@jupyter-widgets/output",
            "_model_module_version": "1.0.0",
            "_view_count": null,
            "_view_module_version": "1.0.0",
            "layout": "IPY_MODEL_9db8851e2de1410eb55f5690beb704a3",
            "_model_module": "@jupyter-widgets/output"
          }
        },
        "ef874ddd5dbc4f02b74f5ed99119cde0": {
          "model_module": "@jupyter-widgets/controls",
          "model_name": "SliderStyleModel",
          "model_module_version": "1.5.0",
          "state": {
            "_view_name": "StyleView",
            "handle_color": null,
            "_model_name": "SliderStyleModel",
            "description_width": "",
            "_view_module": "@jupyter-widgets/base",
            "_model_module_version": "1.5.0",
            "_view_count": null,
            "_view_module_version": "1.2.0",
            "_model_module": "@jupyter-widgets/controls"
          }
        },
        "0bfea7b54f334c1b9dc9b14677428627": {
          "model_module": "@jupyter-widgets/base",
          "model_name": "LayoutModel",
          "model_module_version": "1.2.0",
          "state": {
            "_view_name": "LayoutView",
            "grid_template_rows": null,
            "right": null,
            "justify_content": null,
            "_view_module": "@jupyter-widgets/base",
            "overflow": null,
            "_model_module_version": "1.2.0",
            "_view_count": null,
            "flex_flow": null,
            "width": null,
            "min_width": null,
            "border": null,
            "align_items": null,
            "bottom": null,
            "_model_module": "@jupyter-widgets/base",
            "top": null,
            "grid_column": null,
            "overflow_y": null,
            "overflow_x": null,
            "grid_auto_flow": null,
            "grid_area": null,
            "grid_template_columns": null,
            "flex": null,
            "_model_name": "LayoutModel",
            "justify_items": null,
            "grid_row": null,
            "max_height": null,
            "align_content": null,
            "visibility": null,
            "align_self": null,
            "height": null,
            "min_height": null,
            "padding": null,
            "grid_auto_rows": null,
            "grid_gap": null,
            "max_width": null,
            "order": null,
            "_view_module_version": "1.2.0",
            "grid_template_areas": null,
            "object_position": null,
            "object_fit": null,
            "grid_auto_columns": null,
            "margin": null,
            "display": null,
            "left": null
          }
        },
        "95ef34e4ffdc42ed9c1e82c714ac88d4": {
          "model_module": "@jupyter-widgets/controls",
          "model_name": "SliderStyleModel",
          "model_module_version": "1.5.0",
          "state": {
            "_view_name": "StyleView",
            "handle_color": null,
            "_model_name": "SliderStyleModel",
            "description_width": "",
            "_view_module": "@jupyter-widgets/base",
            "_model_module_version": "1.5.0",
            "_view_count": null,
            "_view_module_version": "1.2.0",
            "_model_module": "@jupyter-widgets/controls"
          }
        },
        "4c96de63314748188e28868d704e3e47": {
          "model_module": "@jupyter-widgets/base",
          "model_name": "LayoutModel",
          "model_module_version": "1.2.0",
          "state": {
            "_view_name": "LayoutView",
            "grid_template_rows": null,
            "right": null,
            "justify_content": null,
            "_view_module": "@jupyter-widgets/base",
            "overflow": null,
            "_model_module_version": "1.2.0",
            "_view_count": null,
            "flex_flow": null,
            "width": null,
            "min_width": null,
            "border": null,
            "align_items": null,
            "bottom": null,
            "_model_module": "@jupyter-widgets/base",
            "top": null,
            "grid_column": null,
            "overflow_y": null,
            "overflow_x": null,
            "grid_auto_flow": null,
            "grid_area": null,
            "grid_template_columns": null,
            "flex": null,
            "_model_name": "LayoutModel",
            "justify_items": null,
            "grid_row": null,
            "max_height": null,
            "align_content": null,
            "visibility": null,
            "align_self": null,
            "height": null,
            "min_height": null,
            "padding": null,
            "grid_auto_rows": null,
            "grid_gap": null,
            "max_width": null,
            "order": null,
            "_view_module_version": "1.2.0",
            "grid_template_areas": null,
            "object_position": null,
            "object_fit": null,
            "grid_auto_columns": null,
            "margin": null,
            "display": null,
            "left": null
          }
        },
        "927e6b4dfe7648248d5d8ad1818db378": {
          "model_module": "@jupyter-widgets/controls",
          "model_name": "SliderStyleModel",
          "model_module_version": "1.5.0",
          "state": {
            "_view_name": "StyleView",
            "handle_color": null,
            "_model_name": "SliderStyleModel",
            "description_width": "",
            "_view_module": "@jupyter-widgets/base",
            "_model_module_version": "1.5.0",
            "_view_count": null,
            "_view_module_version": "1.2.0",
            "_model_module": "@jupyter-widgets/controls"
          }
        },
        "f6d7a9eecfb44a6cb39e38ed11ab018a": {
          "model_module": "@jupyter-widgets/base",
          "model_name": "LayoutModel",
          "model_module_version": "1.2.0",
          "state": {
            "_view_name": "LayoutView",
            "grid_template_rows": null,
            "right": null,
            "justify_content": null,
            "_view_module": "@jupyter-widgets/base",
            "overflow": null,
            "_model_module_version": "1.2.0",
            "_view_count": null,
            "flex_flow": null,
            "width": null,
            "min_width": null,
            "border": null,
            "align_items": null,
            "bottom": null,
            "_model_module": "@jupyter-widgets/base",
            "top": null,
            "grid_column": null,
            "overflow_y": null,
            "overflow_x": null,
            "grid_auto_flow": null,
            "grid_area": null,
            "grid_template_columns": null,
            "flex": null,
            "_model_name": "LayoutModel",
            "justify_items": null,
            "grid_row": null,
            "max_height": null,
            "align_content": null,
            "visibility": null,
            "align_self": null,
            "height": null,
            "min_height": null,
            "padding": null,
            "grid_auto_rows": null,
            "grid_gap": null,
            "max_width": null,
            "order": null,
            "_view_module_version": "1.2.0",
            "grid_template_areas": null,
            "object_position": null,
            "object_fit": null,
            "grid_auto_columns": null,
            "margin": null,
            "display": null,
            "left": null
          }
        },
        "75bef258f6b043a1bd5f18f1184cd64d": {
          "model_module": "@jupyter-widgets/controls",
          "model_name": "SliderStyleModel",
          "model_module_version": "1.5.0",
          "state": {
            "_view_name": "StyleView",
            "handle_color": null,
            "_model_name": "SliderStyleModel",
            "description_width": "",
            "_view_module": "@jupyter-widgets/base",
            "_model_module_version": "1.5.0",
            "_view_count": null,
            "_view_module_version": "1.2.0",
            "_model_module": "@jupyter-widgets/controls"
          }
        },
        "5881c44ecf6045b0bfb9681e06276ebc": {
          "model_module": "@jupyter-widgets/base",
          "model_name": "LayoutModel",
          "model_module_version": "1.2.0",
          "state": {
            "_view_name": "LayoutView",
            "grid_template_rows": null,
            "right": null,
            "justify_content": null,
            "_view_module": "@jupyter-widgets/base",
            "overflow": null,
            "_model_module_version": "1.2.0",
            "_view_count": null,
            "flex_flow": null,
            "width": null,
            "min_width": null,
            "border": null,
            "align_items": null,
            "bottom": null,
            "_model_module": "@jupyter-widgets/base",
            "top": null,
            "grid_column": null,
            "overflow_y": null,
            "overflow_x": null,
            "grid_auto_flow": null,
            "grid_area": null,
            "grid_template_columns": null,
            "flex": null,
            "_model_name": "LayoutModel",
            "justify_items": null,
            "grid_row": null,
            "max_height": null,
            "align_content": null,
            "visibility": null,
            "align_self": null,
            "height": null,
            "min_height": null,
            "padding": null,
            "grid_auto_rows": null,
            "grid_gap": null,
            "max_width": null,
            "order": null,
            "_view_module_version": "1.2.0",
            "grid_template_areas": null,
            "object_position": null,
            "object_fit": null,
            "grid_auto_columns": null,
            "margin": null,
            "display": null,
            "left": null
          }
        },
        "9db8851e2de1410eb55f5690beb704a3": {
          "model_module": "@jupyter-widgets/base",
          "model_name": "LayoutModel",
          "model_module_version": "1.2.0",
          "state": {
            "_view_name": "LayoutView",
            "grid_template_rows": null,
            "right": null,
            "justify_content": null,
            "_view_module": "@jupyter-widgets/base",
            "overflow": null,
            "_model_module_version": "1.2.0",
            "_view_count": null,
            "flex_flow": null,
            "width": null,
            "min_width": null,
            "border": null,
            "align_items": null,
            "bottom": null,
            "_model_module": "@jupyter-widgets/base",
            "top": null,
            "grid_column": null,
            "overflow_y": null,
            "overflow_x": null,
            "grid_auto_flow": null,
            "grid_area": null,
            "grid_template_columns": null,
            "flex": null,
            "_model_name": "LayoutModel",
            "justify_items": null,
            "grid_row": null,
            "max_height": null,
            "align_content": null,
            "visibility": null,
            "align_self": null,
            "height": null,
            "min_height": null,
            "padding": null,
            "grid_auto_rows": null,
            "grid_gap": null,
            "max_width": null,
            "order": null,
            "_view_module_version": "1.2.0",
            "grid_template_areas": null,
            "object_position": null,
            "object_fit": null,
            "grid_auto_columns": null,
            "margin": null,
            "display": null,
            "left": null
          }
        }
      }
    }
  },
  "cells": [
    {
      "cell_type": "markdown",
      "metadata": {
        "id": "view-in-github",
        "colab_type": "text"
      },
      "source": [
        "<a href=\"https://colab.research.google.com/github/Pranavesh-Panakkal/CEVE-562-Python-demo/blob/main/Notebook_3_Plotting_and_jupyter_widgets.ipynb\" target=\"_parent\"><img src=\"https://colab.research.google.com/assets/colab-badge.svg\" alt=\"Open In Colab\"/></a>"
      ]
    },
    {
      "cell_type": "markdown",
      "source": [
        "# Notebook 3: Plotting and ipywidgets (jupyter-widgets)\n",
        "\n",
        "### Topics\n",
        "-  ipywidgets\n",
        "- Seaborn\n",
        "- CartoPy"
      ],
      "metadata": {
        "id": "e1EGeSw4zEFA"
      }
    },
    {
      "cell_type": "markdown",
      "source": [
        "# 1. ipywidgets\n",
        "Tools to interact with Python functions"
      ],
      "metadata": {
        "id": "hVIUZMxG0SrZ"
      }
    },
    {
      "cell_type": "code",
      "source": [
        "import ipywidgets as widgets\n",
        "import matplotlib.pyplot as plt\n",
        "import numpy as np\n",
        "from sklearn.metrics import r2_score"
      ],
      "metadata": {
        "id": "mPXURxhz6K20"
      },
      "execution_count": 1,
      "outputs": []
    },
    {
      "cell_type": "markdown",
      "source": [
        "## 1a. The Interact function"
      ],
      "metadata": {
        "id": "XkCNGgVV7hCC"
      }
    },
    {
      "cell_type": "code",
      "source": [
        "def degrees_to_radians(degree: float) -> float:\n",
        "    \"\"\"\n",
        "    A function to convert degrees to radians\n",
        "    \"\"\"\n",
        "    return degree * np.pi /180\n",
        "\n",
        "# Create a widget to interact with the function\n",
        "widgets.interact(degrees_to_radians, degree=[0, 45, 90, 135, 180]);"
      ],
      "metadata": {
        "colab": {
          "base_uri": "https://localhost:8080/",
          "height": 67,
          "referenced_widgets": [
            "6bbe1e0c6f464ed4bd4f8cb0440154f0",
            "ef6307ea2cf4482db15d32d95174e48d",
            "80a707bfd2f04f14a44662911efa5941",
            "7f0d3916aa37469a9bb4077dccb78a87",
            "6fa99c1d64a0482ea5805df1537f2470",
            "fb6de5f95f2f424abda9566361c91141",
            "a190fef0a3d84410939324131d3d2376"
          ]
        },
        "id": "ZEpplKIY58QN",
        "outputId": "04bb5bc6-eef3-45fb-97dd-401f03334947"
      },
      "execution_count": null,
      "outputs": [
        {
          "output_type": "display_data",
          "data": {
            "application/vnd.jupyter.widget-view+json": {
              "model_id": "6bbe1e0c6f464ed4bd4f8cb0440154f0",
              "version_minor": 0,
              "version_major": 2
            },
            "text/plain": [
              "interactive(children=(Dropdown(description='degree', options=(0, 45, 90, 135, 180), value=0), Output()), _dom_…"
            ]
          },
          "metadata": {}
        }
      ]
    },
    {
      "cell_type": "markdown",
      "source": [
        "## 1b. Example 1. Curve fitting"
      ],
      "metadata": {
        "id": "hIAgccuN7j9z"
      }
    },
    {
      "cell_type": "code",
      "source": [
        "# Generate x data\n",
        "x = np.linspace(0, 10, 75)\n",
        "# Generate y data\n",
        "y = np.random.randint(1, 5)* x + np.random.normal(size=len(x))\n",
        "# Create a plot\n",
        "fig, ax = plt.subplots()\n",
        "ax.scatter(x,y )"
      ],
      "metadata": {
        "colab": {
          "base_uri": "https://localhost:8080/",
          "height": 283
        },
        "id": "EsCT3PNi8tRN",
        "outputId": "b782e79c-f2bc-44ad-814c-efd1459fab27"
      },
      "execution_count": null,
      "outputs": [
        {
          "output_type": "execute_result",
          "data": {
            "text/plain": [
              "<matplotlib.collections.PathCollection at 0x7fce25d3dd90>"
            ]
          },
          "metadata": {},
          "execution_count": 3
        },
        {
          "output_type": "display_data",
          "data": {
            "image/png": "[encoded data removed]",
            "text/plain": [
              "<Figure size 432x288 with 1 Axes>"
            ]
          },
          "metadata": {
            "needs_background": "light"
          }
        }
      ]
    },
    {
      "cell_type": "code",
      "source": [
        "def plot_line(slope, const):\n",
        "    y_hat = slope * x + const\n",
        "    plt.scatter(x,y)\n",
        "    plt.plot(x, y_hat, linestyle= 'dotted', color='red', linewidth=3, label='$\\hat{y}=mx+c$')\n",
        "    plt.ylim(min(y)-2, max(y)+2)\n",
        "    plt.plot([], [], ' ', label=f\"$R^2$ = {r2_score(y, y_hat):.2f}\")\n",
        "    plt.legend()\n"
      ],
      "metadata": {
        "id": "16xbYdL5GoSK"
      },
      "execution_count": null,
      "outputs": []
    },
    {
      "cell_type": "code",
      "source": [
        "widgets.interact(plot_line, slope=(0, 5, 0.05), const=(-5, 10,1))"
      ],
      "metadata": {
        "colab": {
          "base_uri": "https://localhost:8080/",
          "height": 347,
          "referenced_widgets": [
            "959615a354f34d29ab57bc14cbe5b67d",
            "3f6125121eb2445e9a3b0355df6bef00",
            "a89ba009504240f68f051f34cf8da281",
            "dd0b8892a99a4633ac1ac365c47c805d",
            "1e7c933bc5ec4e1b8e8d5dfcb49545f1",
            "c83bae98204d4b28a118a366caf14db4",
            "919539644e5944848dfe0092abc588a4",
            "a40414c254964e50b00d3c797e9f4da6",
            "6f530b26409a47d8882de036722973cb",
            "b32b8b5e07fb4f2bbe9f2a59af5c896a"
          ]
        },
        "id": "M8kYlFR7Hb5C",
        "outputId": "df50f34e-8033-4469-f9c0-280dc21aa6ec"
      },
      "execution_count": null,
      "outputs": [
        {
          "output_type": "display_data",
          "data": {
            "application/vnd.jupyter.widget-view+json": {
              "model_id": "959615a354f34d29ab57bc14cbe5b67d",
              "version_minor": 0,
              "version_major": 2
            },
            "text/plain": [
              "interactive(children=(FloatSlider(value=2.0, description='slope', max=5.0, step=0.05), IntSlider(value=2, desc…"
            ]
          },
          "metadata": {}
        },
        {
          "output_type": "execute_result",
          "data": {
            "text/plain": [
              "<function __main__.plot_line>"
            ]
          },
          "metadata": {},
          "execution_count": 5
        }
      ]
    },
    {
      "cell_type": "markdown",
      "source": [
        "## 1c. Example 2. Demand and Capacity"
      ],
      "metadata": {
        "id": "B9GiWbEOOSgk"
      }
    },
    {
      "cell_type": "code",
      "source": [
        "from ipywidgets import *\n",
        "import numpy as np\n",
        "import matplotlib.pyplot as plt\n",
        "%matplotlib inline\n",
        "from scipy.stats import norm\n",
        "\n",
        "def plot_demand_capacity(demand_mean = 1.0, demand_std=10, capacity_mean=1.0, capacity_std=10):\n",
        "\n",
        "    _range = [demand_mean+4*demand_std, demand_mean-4*demand_std, capacity_mean+4*capacity_std, capacity_mean-4*capacity_std]\n",
        "    x_max = max(_range)\n",
        "    x_min = min(_range)\n",
        "\n",
        "    x = np.linspace(x_min, x_max, 1000)\n",
        "\n",
        "    demand_normal_dist = norm(loc=demand_mean, scale=demand_std)\n",
        "    capacity_normal_dist = norm(loc=capacity_mean, scale=capacity_std)\n",
        "\n",
        "    y_demand = demand_normal_dist.pdf(x)\n",
        "    y_capacity = capacity_normal_dist.pdf(x)\n",
        "\n",
        "    plt.plot(x, y_demand, label='Demand', color='red')\n",
        "    plt.fill_between(x, y_demand, color='red', alpha=0.3)\n",
        "\n",
        "    plt.plot(x, y_capacity, label='Capacity', color='green')\n",
        "    plt.fill_between(x, y_capacity, color='green', alpha=0.3)\n",
        "\n",
        "    plt.legend()\n",
        "\n",
        "    plt.xlim(x_min,x_max)\n",
        "\n",
        "# layout = widgets.Layout(width='200%', height='100px')\n",
        "interact(plot_demand_capacity, demand_mean = (50, 100, 1), demand_std= (0.1, 10, 1), capacity_mean=(95, 150, 1), capacity_std=(0.1, 20, 1));#, layout=layout"
      ],
      "metadata": {
        "colab": {
          "base_uri": "https://localhost:8080/",
          "height": 393,
          "referenced_widgets": [
            "1e4f69bd04184b6b9dfb05070ebe08b8",
            "42ab202443c341cc850a06e261555586",
            "48073b76ff2d4b098e571b31e1a0c216",
            "0685f04674854fedb96331f23d6b314a",
            "8f70d41cb38948b6a8720bfdfad4a006",
            "7080ab53a1734a068fc8e175b4147aea",
            "5a98fa79697d4b16a78afa4e89c489b7",
            "ef874ddd5dbc4f02b74f5ed99119cde0",
            "0bfea7b54f334c1b9dc9b14677428627",
            "95ef34e4ffdc42ed9c1e82c714ac88d4",
            "4c96de63314748188e28868d704e3e47",
            "927e6b4dfe7648248d5d8ad1818db378",
            "f6d7a9eecfb44a6cb39e38ed11ab018a",
            "75bef258f6b043a1bd5f18f1184cd64d",
            "5881c44ecf6045b0bfb9681e06276ebc",
            "9db8851e2de1410eb55f5690beb704a3"
          ]
        },
        "id": "JtsDtM9XADWH",
        "outputId": "d937a8b1-3c3d-4ed0-f2dd-5daa0b5b1d05"
      },
      "execution_count": 2,
      "outputs": [
        {
          "output_type": "display_data",
          "data": {
            "application/vnd.jupyter.widget-view+json": {
              "model_id": "1e4f69bd04184b6b9dfb05070ebe08b8",
              "version_minor": 0,
              "version_major": 2
            },
            "text/plain": [
              "interactive(children=(IntSlider(value=50, description='demand_mean', min=50), FloatSlider(value=10.0, descript…"
            ]
          },
          "metadata": {}
        }
      ]
    },
    {
      "cell_type": "markdown",
      "source": [
        "# 2. Seaborn\n",
        "\n",
        "A Python plotting library"
      ],
      "metadata": {
        "id": "KKDR5fb60N4Q"
      }
    },
    {
      "cell_type": "markdown",
      "source": [
        "## 2a. Example random walks"
      ],
      "metadata": {
        "id": "KZJ-dnJcYOW1"
      }
    },
    {
      "cell_type": "code",
      "source": [
        "import seaborn as sns\n",
        "import numpy as np\n",
        "import pandas as pd\n",
        "import seaborn as sns\n",
        "import matplotlib.pyplot as plt\n",
        "import random"
      ],
      "metadata": {
        "id": "opWdwUeSYYiA"
      },
      "execution_count": 3,
      "outputs": []
    },
    {
      "cell_type": "code",
      "source": [
        "start = np.random.randint(0, 5)\n",
        "\n",
        "def get_a_walk(number_steps: int=5) -> list:\n",
        "    \"\"\"\n",
        "    Generate a sample walk (1D)\n",
        "    \"\"\"\n",
        "    # Get a start point\n",
        "    start = np.random.randint(0, 5)\n",
        "    # Sample steps\n",
        "    # Random walk in 1D\n",
        "    # direction = ['north', 'south', \"same\"]\n",
        "    direction = [1, -1, 0]\n",
        "    steps = [random.choice(direction) for _ in range(number_steps-1)]\n",
        "    # steps = [1 if dir=='north' else 0 for dir in steps]\n",
        "    final_walk = np.cumsum([start] + steps)\n",
        "    return final_walk\n",
        "\n",
        "def generate_a_walk(id=0, number_steps=5):\n",
        "    \"\"\"Generates a random walk as a dataframe\"\"\"\n",
        "    return pd.DataFrame({'step':range(number_steps), \n",
        "                        'position': get_a_walk(number_steps),\n",
        "                        'walk':[id]*number_steps})\n",
        "    \n",
        "def generate_1d_walks(number_of_samples):\n",
        "    return pd.concat([generate_a_walk(id) for id in range(number_of_samples)], ignore_index=True)"
      ],
      "metadata": {
        "id": "lKEWHRWuvQRm"
      },
      "execution_count": 4,
      "outputs": []
    },
    {
      "cell_type": "code",
      "source": [
        "random_walks = generate_1d_walks(number_of_samples=20)"
      ],
      "metadata": {
        "id": "jEa1w-a2yIGj"
      },
      "execution_count": 5,
      "outputs": []
    },
    {
      "cell_type": "code",
      "source": [
        "# This example is inspired from https://seaborn.pydata.org/examples/many_facets.html\n",
        "\n",
        "# Initialize a grid of plots with an Axes for each walk\n",
        "grid = sns.FacetGrid(random_walks, col=\"walk\", hue=\"walk\", palette=\"tab20c\",\n",
        "                     col_wrap=4, height=1.5)\n",
        "\n",
        "# Draw a horizontal line to show the starting point\n",
        "grid.refline(y=0, linestyle=\":\")\n",
        "\n",
        "# Draw a line plot to show the trajectory of each random walk\n",
        "grid.map(plt.plot, \"step\", \"position\", marker=\"o\")\n",
        "\n",
        "# Adjust the tick positions and labels\n",
        "grid.set(xticks=np.arange(5), yticks=[-3, 3],  xlim=(-.5, 4.5), ylim=(-10, 10))\n",
        "\n",
        "# Adjust the arrangement of the plots\n",
        "grid.fig.tight_layout(w_pad=1)"
      ],
      "metadata": {
        "colab": {
          "base_uri": "https://localhost:8080/",
          "height": 549
        },
        "id": "b-cfJoIXYwUv",
        "outputId": "b6ea802f-d4b4-4723-c4b2-0c4b1effcb4d"
      },
      "execution_count": 6,
      "outputs": [
        {
          "output_type": "display_data",
          "data": {
            "image/png": "[encoded data removed]",
            "text/plain": [
              "<Figure size 432x540 with 20 Axes>"
            ]
          },
          "metadata": {
            "needs_background": "light"
          }
        }
      ]
    },
    {
      "cell_type": "markdown",
      "source": [
        "# 3. CartoPy\n",
        "\n",
        "A python package for plotting geodata"
      ],
      "metadata": {
        "id": "f-mdwBxr0QRn"
      }
    },
    {
      "cell_type": "markdown",
      "source": [
        "#4. Bokeh and Plotly\n",
        "\n",
        "Interactive plotting in Python"
      ],
      "metadata": {
        "id": "kG4691VT45ca"
      }
    },
    {
      "cell_type": "code",
      "source": [
        ""
      ],
      "metadata": {
        "id": "r5D28StNMsHK"
      },
      "execution_count": null,
      "outputs": []
    }
  ]
}